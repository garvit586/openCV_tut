{
 "cells": [
  {
   "cell_type": "code",
   "execution_count": null,
   "metadata": {},
   "outputs": [],
   "source": [
    "# Python program to illustrate \n",
    "# saving an operated video\n",
    "\n",
    "# organize imports\n",
    "import numpy as np\n",
    "import cv2\n",
    "\n",
    "# This will return video from the first webcam on your computer.\n",
    "cap = cv2.VideoCapture(0)  \n",
    "\n",
    "# Define the codec and create VideoWriter object\n",
    "fourcc = cv2.VideoWriter_fourcc(*'XVID')\n",
    "out = cv2.VideoWriter('output.avi', fourcc, 20.0, (640, 480))\n",
    "\n",
    "# loop runs if capturing has been initialized. \n",
    "while(True):\n",
    "    # reads frames from a camera \n",
    "    # ret checks return at each frame\n",
    "    ret, frame = cap.read() \n",
    "\n",
    "    # Converts to HSV color space, OCV reads colors as BGR\n",
    "    # frame is converted to hsv\n",
    "    hsv = cv2.cvtColor(frame, cv2.COLOR_BGR2HSV)\n",
    "    \n",
    "    # output the frame\n",
    "    out.write(hsv) \n",
    "    \n",
    "    # The original input frame is shown in the window \n",
    "    cv2.imshow('Original', frame)\n",
    "\n",
    "    # The window showing the operated video stream \n",
    "    cv2.imshow('frame', hsv)\n",
    "\n",
    "    \n",
    "    # Wait for 'a' key to stop the program \n",
    "    if cv2.waitKey(1) & 0xFF == ord('a'):\n",
    "        break\n",
    "\n",
    "# Close the window / Release webcam\n",
    "cap.release()\n",
    "\n",
    "# After we release our webcam, we also release the output\n",
    "out.release() \n",
    "\n",
    "# De-allocate any associated memory usage \n",
    "cv2.destroyAllWindows()\n"
   ]
  }
 ],
 "metadata": {
  "language_info": {
   "name": "python"
  }
 },
 "nbformat": 4,
 "nbformat_minor": 2
}
