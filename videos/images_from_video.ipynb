{
 "cells": [
  {
   "cell_type": "code",
   "execution_count": null,
   "metadata": {},
   "outputs": [],
   "source": [
    "# Importing all necessary libraries \n",
    "import cv2 \n",
    "import os \n",
    "\n",
    "# Read the video from specified path \n",
    "cam = cv2.VideoCapture(\"C:\\\\Users\\\\Admin\\\\PycharmProjects\\\\project_1\\\\openCV.mp4\") \n",
    "\n",
    "try: \n",
    "\t\n",
    "\t# creating a folder named data \n",
    "\tif not os.path.exists('data'): \n",
    "\t\tos.makedirs('data') \n",
    "\n",
    "# if not created then raise error \n",
    "except OSError: \n",
    "\tprint ('Error: Creating directory of data') \n",
    "\n",
    "# frame \n",
    "currentframe = 0\n",
    "\n",
    "while(True): \n",
    "\t\n",
    "\t# reading from frame \n",
    "\tret,frame = cam.read() \n",
    "\n",
    "\tif ret: \n",
    "\t\t# if video is still left continue creating images \n",
    "\t\tname = './data/frame' + str(currentframe) + '.jpg'\n",
    "\t\tprint ('Creating...' + name) \n",
    "\n",
    "\t\t# writing the extracted images \n",
    "\t\tcv2.imwrite(name, frame) \n",
    "\n",
    "\t\t# increasing counter so that it will \n",
    "\t\t# show how many frames are created \n",
    "\t\tcurrentframe += 1\n",
    "\telse: \n",
    "\t\tbreak\n",
    "\n",
    "# Release all space and windows once done \n",
    "cam.release() \n",
    "cv2.destroyAllWindows() \n"
   ]
  }
 ],
 "metadata": {
  "kernelspec": {
   "display_name": "venv",
   "language": "python",
   "name": "python3"
  },
  "language_info": {
   "name": "python",
   "version": "3.12.2"
  }
 },
 "nbformat": 4,
 "nbformat_minor": 2
}
