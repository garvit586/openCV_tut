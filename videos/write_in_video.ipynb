{
 "cells": [
  {
   "cell_type": "code",
   "execution_count": null,
   "metadata": {},
   "outputs": [],
   "source": [
    "import cv2 \n",
    "\n",
    "\n",
    "def main(): \n",
    "\t\n",
    "\t# reading the input \n",
    "\tcap = cv2.VideoCapture(\"input.mp4\") \n",
    "\n",
    "\toutput = cv2.VideoWriter( \n",
    "\t\t\"output.avi\", cv2.VideoWriter_fourcc(*'MPEG'), 30, (1080, 1920)) \n",
    "\n",
    "\twhile(True): \n",
    "\t\tret, frame = cap.read() \n",
    "\t\tif(ret): \n",
    "\t\t\t\n",
    "\t\t\t# adding rectangle on each frame \n",
    "\t\t\tcv2.rectangle(frame, (100, 100), (500, 500), (0, 255, 0), 3) \n",
    "\t\t\t\n",
    "\t\t\t# writing the new frame in output \n",
    "\t\t\toutput.write(frame) \n",
    "\t\t\tcv2.imshow(\"output\", frame) \n",
    "\t\t\tif cv2.waitKey(1) & 0xFF == ord('s'): \n",
    "\t\t\t\tbreak\n",
    "\n",
    "\tcv2.destroyAllWindows() \n",
    "\toutput.release() \n",
    "\tcap.release() \n",
    "\n",
    "\n",
    "if __name__ == \"__main__\": \n",
    "\tmain()\n"
   ]
  }
 ],
 "metadata": {
  "language_info": {
   "name": "python"
  }
 },
 "nbformat": 4,
 "nbformat_minor": 2
}
