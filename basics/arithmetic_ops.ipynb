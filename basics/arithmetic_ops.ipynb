{
 "cells": [
  {
   "cell_type": "code",
   "execution_count": 3,
   "metadata": {},
   "outputs": [],
   "source": [
    "# Python program to illustrate  \n",
    "# arithmetic operation of \n",
    "# addition of two images \n",
    "    \n",
    "# organizing imports  \n",
    "import cv2  \n",
    "import numpy as np  \n",
    "    \n",
    "# path to input images are specified and   \n",
    "# images are loaded with imread command  \n",
    "image1 = cv2.imread(r'../image/RGB_paint.png')  \n",
    "image2 = cv2.imread(r'../image/road.jpg')\n",
    "\n",
    "image1 = cv2.resize(image1,(600,600))\n",
    "image2 = cv2.resize(image2,(600,600))\n",
    "  \n",
    "# cv2.addWeighted is applied over the \n",
    "# image inputs with applied parameters \n",
    "weightedSum = cv2.addWeighted(image1, 0.5, image2, 0.4, 0) \n",
    "  \n",
    "# the window showing output image \n",
    "# with the weighted sum  \n",
    "cv2.imshow('Weighted Image', weightedSum) \n",
    "  \n",
    "# De-allocate any associated memory usage   \n",
    "if cv2.waitKey(0) & 0xff == 27:  \n",
    "    cv2.destroyAllWindows()  "
   ]
  },
  {
   "cell_type": "code",
   "execution_count": null,
   "metadata": {},
   "outputs": [],
   "source": []
  },
  {
   "cell_type": "code",
   "execution_count": 5,
   "metadata": {},
   "outputs": [],
   "source": [
    "import cv2  \n",
    "import numpy as np  \n",
    "    \n",
    "# path to input images are specified and   \n",
    "# images are loaded with imread command  \n",
    "image1 = cv2.imread(r'../image/RGB_paint.png')  \n",
    "image2 = cv2.imread(r'../image/road.jpg')\n",
    "\n",
    "image1 = cv2.resize(image1,(600,600))\n",
    "image2 = cv2.resize(image2,(600,600))\n",
    "  \n",
    "# cv2.subtract is applied over the \n",
    "# image inputs with applied parameters \n",
    "sub = cv2.subtract(image2, image1) \n",
    "  \n",
    "# the window showing output image \n",
    "# with the subtracted image  \n",
    "cv2.imshow('Subtracted Image', sub) \n",
    "  \n",
    "# De-allocate any associated memory usage   \n",
    "if cv2.waitKey(0) & 0xff == 27:  \n",
    "    cv2.destroyAllWindows()  "
   ]
  },
  {
   "cell_type": "code",
   "execution_count": null,
   "metadata": {},
   "outputs": [],
   "source": [
    "# other Functions\n",
    "dest_and = cv2.bitwise_and(img2, img1, mask = None) \n",
    "dest_or = cv2.bitwise_or(img2, img1, mask = None) \n",
    "dest_xor = cv2.bitwise_xor(img1, img2, mask = None) \n",
    "dest_not1 = cv2.bitwise_not(img1, mask = None) \n",
    "cv2.imshow('Bitwise NOT on image 1', dest_not1) "
   ]
  }
 ],
 "metadata": {
  "kernelspec": {
   "display_name": "venv",
   "language": "python",
   "name": "python3"
  },
  "language_info": {
   "codemirror_mode": {
    "name": "ipython",
    "version": 3
   },
   "file_extension": ".py",
   "mimetype": "text/x-python",
   "name": "python",
   "nbconvert_exporter": "python",
   "pygments_lexer": "ipython3",
   "version": "3.12.2"
  }
 },
 "nbformat": 4,
 "nbformat_minor": 2
}
