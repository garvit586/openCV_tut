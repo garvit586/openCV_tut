{
 "cells": [
  {
   "cell_type": "code",
   "execution_count": 1,
   "metadata": {},
   "outputs": [
    {
     "name": "stdout",
     "output_type": "stream",
     "text": [
      "Height = 735, Width = 1100\n"
     ]
    }
   ],
   "source": [
    "# Importing the OpenCV library\n",
    "import cv2\n",
    "# Reading the image using imread() function\n",
    "image = cv2.imread(r'../image/road.jpg')\n",
    "\n",
    "# Extracting the height and width of an image\n",
    "h, w = image.shape[:2]\n",
    "# Displaying the height and width\n",
    "print(\"Height = {}, Width = {}\".format(h, w))"
   ]
  },
  {
   "cell_type": "code",
   "execution_count": 3,
   "metadata": {},
   "outputs": [
    {
     "name": "stdout",
     "output_type": "stream",
     "text": [
      "R = 239, G = 200, B = 157\n",
      "B = 157\n"
     ]
    }
   ],
   "source": [
    "(B, G, R) = image[100, 100]\n",
    "\n",
    "# Displaying the pixel values\n",
    "print(\"R = {}, G = {}, B = {}\".format(R, G, B))\n",
    "\n",
    "# We can also pass the channel to extract\n",
    "# the value for a specific channel\n",
    "B = image[100, 100, 0]\n",
    "print(\"B = {}\".format(B))"
   ]
  },
  {
   "cell_type": "code",
   "execution_count": 4,
   "metadata": {},
   "outputs": [
    {
     "data": {
      "text/plain": [
       "-1"
      ]
     },
     "execution_count": 4,
     "metadata": {},
     "output_type": "execute_result"
    }
   ],
   "source": [
    "# We will calculate the region of interest\n",
    "# by slicing the pixels of the image\n",
    "roi = image[100 : 500, 200 : 700]\n",
    "cv2.imshow(\"ROI\", roi)\n",
    "cv2.waitKey(0)"
   ]
  },
  {
   "cell_type": "code",
   "execution_count": 5,
   "metadata": {},
   "outputs": [
    {
     "data": {
      "text/plain": [
       "-1"
      ]
     },
     "execution_count": 5,
     "metadata": {},
     "output_type": "execute_result"
    }
   ],
   "source": [
    "resize = cv2.resize(image, (500, 500))\n",
    "cv2.imshow(\"Resized Image\", resize)\n",
    "cv2.waitKey(0)"
   ]
  },
  {
   "cell_type": "code",
   "execution_count": 6,
   "metadata": {},
   "outputs": [
    {
     "data": {
      "text/plain": [
       "-1"
      ]
     },
     "execution_count": 6,
     "metadata": {},
     "output_type": "execute_result"
    }
   ],
   "source": [
    "# Calculating the ratio\n",
    "ratio = 800 / w\n",
    "\n",
    "# Creating a tuple containing width and height\n",
    "dim = (800, int(h * ratio))\n",
    "\n",
    "# Resizing the image\n",
    "resize_aspect = cv2.resize(image, dim)\n",
    "cv2.imshow(\"Resized Image\", resize_aspect)\n",
    "cv2.waitKey(0)"
   ]
  },
  {
   "cell_type": "code",
   "execution_count": 9,
   "metadata": {},
   "outputs": [
    {
     "data": {
      "text/plain": [
       "-1"
      ]
     },
     "execution_count": 9,
     "metadata": {},
     "output_type": "execute_result"
    }
   ],
   "source": [
    "output = image.copy()\n",
    "\n",
    "# Using the rectangle() function to create a rectangle.\n",
    "rectangle = cv2.rectangle(output, (1500, 900),\n",
    "                        (600, 400), (255, 0, 0), 2)\n",
    "cv2.imshow(\"rectangle Image\", output)\n",
    "cv2.waitKey(0)"
   ]
  },
  {
   "cell_type": "code",
   "execution_count": 10,
   "metadata": {},
   "outputs": [
    {
     "data": {
      "text/plain": [
       "-1"
      ]
     },
     "execution_count": 10,
     "metadata": {},
     "output_type": "execute_result"
    }
   ],
   "source": [
    "# Copying the original image\n",
    "output = image.copy()\n",
    "\n",
    "# Adding the text using putText() function\n",
    "text = cv2.putText(output, 'OpenCV Demo', (500, 550),\n",
    "                cv2.FONT_HERSHEY_SIMPLEX, 4, (255, 0, 0), 2)\n",
    "cv2.imshow(\"OpenCV Demo\", output)\n",
    "cv2.waitKey(0)"
   ]
  },
  {
   "cell_type": "code",
   "execution_count": null,
   "metadata": {},
   "outputs": [],
   "source": []
  }
 ],
 "metadata": {
  "kernelspec": {
   "display_name": "venv",
   "language": "python",
   "name": "python3"
  },
  "language_info": {
   "codemirror_mode": {
    "name": "ipython",
    "version": 3
   },
   "file_extension": ".py",
   "mimetype": "text/x-python",
   "name": "python",
   "nbconvert_exporter": "python",
   "pygments_lexer": "ipython3",
   "version": "3.12.2"
  }
 },
 "nbformat": 4,
 "nbformat_minor": 2
}
