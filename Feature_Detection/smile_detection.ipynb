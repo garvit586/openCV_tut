{
 "cells": [
  {
   "cell_type": "code",
   "execution_count": null,
   "metadata": {},
   "outputs": [],
   "source": [
    "import cv2"
   ]
  },
  {
   "cell_type": "code",
   "execution_count": null,
   "metadata": {},
   "outputs": [],
   "source": [
    "face_cascade = cv2.CascadeClassifier(cv2.data.haarcascades +'haarcascade_frontalface_default.xml') \n",
    "eye_cascade = cv2.CascadeClassifier(cv2.data.haarcascades +'haarcascade_eye.xml') \n",
    "smile_cascade = cv2.CascadeClassifier(cv2.data.haarcascades +'haarcascade_smile.xml') "
   ]
  },
  {
   "cell_type": "code",
   "execution_count": null,
   "metadata": {},
   "outputs": [],
   "source": [
    "faces  = face_cascade.detectMultiScale(gray, 1.3, 5) "
   ]
  },
  {
   "cell_type": "code",
   "execution_count": null,
   "metadata": {},
   "outputs": [],
   "source": [
    "def detect(gray, frame): \n",
    "    faces = face_cascade.detectMultiScale(gray, 1.3, 5) \n",
    "    for (x, y, w, h) in faces: \n",
    "        cv2.rectangle(frame, (x, y), ((x + w), (y + h)), (255, 0, 0), 2) \n",
    "        roi_gray = gray[y:y + h, x:x + w] \n",
    "        roi_color = frame[y:y + h, x:x + w] \n",
    "        smiles = smile_cascade.detectMultiScale(roi_gray, 1.8, 20) \n",
    "  \n",
    "        for (sx, sy, sw, sh) in smiles: \n",
    "            cv2.rectangle(roi_color, (sx, sy), ((sx + sw), (sy + sh)), (0, 0, 255), 2) \n",
    "    return frame "
   ]
  },
  {
   "cell_type": "code",
   "execution_count": null,
   "metadata": {},
   "outputs": [],
   "source": [
    "video_capture = cv2.VideoCapture(0) \n",
    "while video_capture.isOpened(): \n",
    "   # Captures video_capture frame by frame \n",
    "    _, frame = video_capture.read()  \n",
    "  \n",
    "    # To capture image in monochrome                     \n",
    "    gray = cv2.cvtColor(frame, cv2.COLOR_BGR2GRAY)   \n",
    "      \n",
    "    # calls the detect() function     \n",
    "    canvas = detect(gray, frame)    \n",
    "  \n",
    "    # Displays the result on camera feed                      \n",
    "    cv2.imshow('Video', canvas)  \n",
    "  \n",
    "    # The control breaks once q key is pressed                         \n",
    "    if cv2.waitKey(1) & 0xff == ord('q'):                \n",
    "        break\n",
    "  \n",
    "# Release the capture once all the processing is done. \n",
    "video_capture.release()                                  \n",
    "cv2.destroyAllWindows() "
   ]
  }
 ],
 "metadata": {
  "kernelspec": {
   "display_name": "venv",
   "language": "python",
   "name": "python3"
  },
  "language_info": {
   "name": "python",
   "version": "3.12.2"
  }
 },
 "nbformat": 4,
 "nbformat_minor": 2
}
