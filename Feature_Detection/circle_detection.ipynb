{
 "cells": [
  {
   "cell_type": "code",
   "execution_count": null,
   "metadata": {},
   "outputs": [],
   "source": [
    "import cv2 \n",
    "import numpy as np \n",
    "\n",
    "# Read image. \n",
    "img = cv2.imread('eyes.jpg', cv2.IMREAD_COLOR) \n",
    "\n",
    "# Convert to grayscale. \n",
    "gray = cv2.cvtColor(img, cv2.COLOR_BGR2GRAY) \n",
    "\n",
    "# Blur using 3 * 3 kernel. \n",
    "gray_blurred = cv2.blur(gray, (3, 3)) \n",
    "\n",
    "# Apply Hough transform on the blurred image. \n",
    "detected_circles = cv2.HoughCircles(gray_blurred, \n",
    "\t\t\t\tcv2.HOUGH_GRADIENT, 1, 20, param1 = 50, \n",
    "\t\t\tparam2 = 30, minRadius = 1, maxRadius = 40) \n",
    "\n",
    "# Draw circles that are detected. \n",
    "if detected_circles is not None: \n",
    "\n",
    "\t# Convert the circle parameters a, b and r to integers. \n",
    "\tdetected_circles = np.uint16(np.around(detected_circles)) \n",
    "\n",
    "\tfor pt in detected_circles[0, :]: \n",
    "\t\ta, b, r = pt[0], pt[1], pt[2] \n",
    "\n",
    "\t\t# Draw the circumference of the circle. \n",
    "\t\tcv2.circle(img, (a, b), r, (0, 255, 0), 2) \n",
    "\n",
    "\t\t# Draw a small circle (of radius 1) to show the center. \n",
    "\t\tcv2.circle(img, (a, b), 1, (0, 0, 255), 3) \n",
    "\t\tcv2.imshow(\"Detected Circle\", img) \n",
    "\t\tcv2.waitKey(0) \n"
   ]
  }
 ],
 "metadata": {
  "kernelspec": {
   "display_name": "venv",
   "language": "python",
   "name": "python3"
  },
  "language_info": {
   "name": "python",
   "version": "3.12.2"
  }
 },
 "nbformat": 4,
 "nbformat_minor": 2
}
