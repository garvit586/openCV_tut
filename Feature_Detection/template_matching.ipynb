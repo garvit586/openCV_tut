{
 "cells": [
  {
   "cell_type": "code",
   "execution_count": null,
   "metadata": {},
   "outputs": [],
   "source": [
    "# importing libraries \n",
    "import numpy as np \n",
    "import imutils \n",
    "import cv2 \n",
    "\n",
    "field_threshold = { \"prev_policy_no\" : 0.7, \n",
    "\t\t\t\t\t\"address\"\t : 0.6, \n",
    "\t\t\t\t} \n",
    "\n",
    "# Function to Generate bounding \n",
    "# boxes around detected fields \n",
    "def getBoxed(img, img_gray, template, field_name = \"policy_no\"): \n",
    "\n",
    "\tw, h = template.shape[::-1] \n",
    "\n",
    "\t# Apply template matching \n",
    "\tres = cv2.matchTemplate(img_gray, template, \n",
    "\t\t\t\t\t\tcv2.TM_CCOEFF_NORMED) \n",
    "\n",
    "\thits = np.where(res >= field_threshold[field_name]) \n",
    "\n",
    "\t# Draw a rectangle around the matched region. \n",
    "\tfor pt in zip(*hits[::-1]): \n",
    "\t\tcv2.rectangle(img, pt, (pt[0] + w, pt[1] + h), \n",
    "\t\t\t\t\t\t\t\t\t(0, 255, 255), 2) \n",
    "\n",
    "\t\ty = pt[1] - 10 if pt[1] - 10 > 10 else pt[1] + h + 20\n",
    "\n",
    "\t\tcv2.putText(img, field_name, (pt[0], y), \n",
    "\t\t\tcv2.FONT_HERSHEY_SIMPLEX, 0.8, (0, 0, 255), 1) \n",
    "\n",
    "\treturn img \n",
    "\n",
    "\n",
    "# Driver Function \n",
    "if __name__ == '__main__': \n",
    "\n",
    "\t# Read the original document image \n",
    "\timg = cv2.imread('doc.png') \n",
    "\t\t\n",
    "\t# 3-d to 2-d conversion \n",
    "\timg_gray = cv2.cvtColor(img, cv2.COLOR_BGR2GRAY) \n",
    "\t\n",
    "\t# Field templates \n",
    "\ttemplate_add = cv2.imread('doc_address.png', 0) \n",
    "\ttemplate_prev = cv2.imread('doc_prev_policy.png', 0) \n",
    "\n",
    "\timg = getBoxed(img.copy(), img_gray.copy(), \n",
    "\t\t\t\t\ttemplate_add, 'address') \n",
    "\n",
    "\timg = getBoxed(img.copy(), img_gray.copy(), \n",
    "\t\t\t\ttemplate_prev, 'prev_policy_no') \n",
    "\n",
    "\tcv2.imshow('Detected', img) \n"
   ]
  }
 ],
 "metadata": {
  "kernelspec": {
   "display_name": "venv",
   "language": "python",
   "name": "python3"
  },
  "language_info": {
   "name": "python",
   "version": "3.12.2"
  }
 },
 "nbformat": 4,
 "nbformat_minor": 2
}
