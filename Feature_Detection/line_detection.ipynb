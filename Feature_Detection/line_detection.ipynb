{
 "cells": [
  {
   "cell_type": "code",
   "execution_count": 4,
   "metadata": {},
   "outputs": [
    {
     "data": {
      "text/plain": [
       "True"
      ]
     },
     "execution_count": 4,
     "metadata": {},
     "output_type": "execute_result"
    }
   ],
   "source": [
    "import cv2\n",
    "import numpy as np\n",
    "\n",
    "# Read image\n",
    "image = cv2.imread(r'../image/lines.jpg')\n",
    "\n",
    "# Convert image to grayscale\n",
    "gray = cv2.cvtColor(image,cv2.COLOR_BGR2GRAY)\n",
    "\n",
    "# Use canny edge detection\n",
    "edges = cv2.Canny(gray,50,150,apertureSize=3)\n",
    "\n",
    "# Apply HoughLinesP method to \n",
    "# to directly obtain line end points\n",
    "lines_list =[]\n",
    "lines = cv2.HoughLinesP(\n",
    "            edges, # Input edge image\n",
    "            1, # Distance resolution in pixels\n",
    "            np.pi/180, # Angle resolution in radians\n",
    "            threshold=100, # Min number of votes for valid line\n",
    "            minLineLength=5, # Min allowed length of line\n",
    "            maxLineGap=10 # Max allowed gap between line for joining them\n",
    "            )\n",
    "\n",
    "# Iterate over points\n",
    "for points in lines:\n",
    "      # Extracted points nested in the list\n",
    "    x1,y1,x2,y2=points[0]\n",
    "    # Draw the lines joing the points\n",
    "    # On the original image\n",
    "    cv2.line(image,(x1,y1),(x2,y2),(0,255,0),2)\n",
    "    # Maintain a simples lookup list for points\n",
    "    lines_list.append([(x1,y1),(x2,y2)])\n",
    "    \n",
    "# Save the result image\n",
    "cv2.imwrite('detectedLines.png',image)\n"
   ]
  },
  {
   "cell_type": "code",
   "execution_count": null,
   "metadata": {},
   "outputs": [],
   "source": []
  }
 ],
 "metadata": {
  "kernelspec": {
   "display_name": "venv",
   "language": "python",
   "name": "python3"
  },
  "language_info": {
   "codemirror_mode": {
    "name": "ipython",
    "version": 3
   },
   "file_extension": ".py",
   "mimetype": "text/x-python",
   "name": "python",
   "nbconvert_exporter": "python",
   "pygments_lexer": "ipython3",
   "version": "3.12.2"
  }
 },
 "nbformat": 4,
 "nbformat_minor": 2
}
